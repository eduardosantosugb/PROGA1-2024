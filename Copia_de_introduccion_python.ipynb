{
  "nbformat": 4,
  "nbformat_minor": 0,
  "metadata": {
    "colab": {
      "provenance": [],
      "authorship_tag": "ABX9TyNC7Bpy0vBstUdJnwXNVRys",
      "include_colab_link": true
    },
    "kernelspec": {
      "name": "python3",
      "display_name": "Python 3"
    },
    "language_info": {
      "name": "python"
    }
  },
  "cells": [
    {
      "cell_type": "markdown",
      "metadata": {
        "id": "view-in-github",
        "colab_type": "text"
      },
      "source": [
        "<a href=\"https://colab.research.google.com/github/eduardosantosugb/PROGA1-2024/blob/main/Copia_de_introduccion_python.ipynb\" target=\"_parent\"><img src=\"https://colab.research.google.com/assets/colab-badge.svg\" alt=\"Open In Colab\"/></a>"
      ]
    },
    {
      "cell_type": "code",
      "execution_count": null,
      "metadata": {
        "colab": {
          "base_uri": "https://localhost:8080/"
        },
        "id": "pMaektN7aJw8",
        "outputId": "e3dc796f-aecd-4060-9c67-b26653ac8e45"
      },
      "outputs": [
        {
          "output_type": "stream",
          "name": "stdout",
          "text": [
            "hola mundo\n",
            "Bienvenidos a la clase de programacion computaciona lll\n"
          ]
        }
      ],
      "source": [
        "print(\"hola mundo\")\n",
        "print(\"Bienvenidos a la clase de programacion computaciona lll\")"
      ]
    },
    {
      "cell_type": "code",
      "source": [
        "nombre = \"Eduardo Santos\"\n",
        "edad = \"18\"\n",
        "print(nombre, edad)"
      ],
      "metadata": {
        "colab": {
          "base_uri": "https://localhost:8080/"
        },
        "id": "veJLqC-Rbp4H",
        "outputId": "aa5ab128-564e-4380-cc18-9ca5fa5050da"
      },
      "execution_count": null,
      "outputs": [
        {
          "output_type": "stream",
          "name": "stdout",
          "text": [
            "Eduardo Santos 18\n"
          ]
        }
      ]
    },
    {
      "cell_type": "code",
      "source": [
        "num1 = 5\n",
        "num2 = 8.9\n",
        "suma = num1 + num2\n",
        "print(\"la suma es: \", suma)"
      ],
      "metadata": {
        "colab": {
          "base_uri": "https://localhost:8080/"
        },
        "id": "169YPcWBdDcW",
        "outputId": "d600876e-b477-4981-b89e-74f5f55f173a"
      },
      "execution_count": null,
      "outputs": [
        {
          "output_type": "stream",
          "name": "stdout",
          "text": [
            "la suma es:  13.9\n"
          ]
        }
      ]
    },
    {
      "cell_type": "code",
      "source": [
        "num1 = float(input(\"num1:\"))\n",
        "num2 = float(input(\"num2:\"))\n",
        "suma = num1+ num2\n",
        "print(\"la suma es: \", suma)"
      ],
      "metadata": {
        "colab": {
          "base_uri": "https://localhost:8080/"
        },
        "id": "FyNk0Vxqd1XA",
        "outputId": "9011b13b-8c53-46ae-8cb7-48e40d770785"
      },
      "execution_count": null,
      "outputs": [
        {
          "output_type": "stream",
          "name": "stdout",
          "text": [
            "num1:4\n",
            "num2:4\n",
            "la suma es:  8.0\n"
          ]
        }
      ]
    },
    {
      "cell_type": "code",
      "source": [
        "num1 = float(input(\"num1:\"))\n",
        "num2 = float(input(\"num2:\"))\n",
        "resta = num1- num2\n",
        "print(\"la resta es: \", resta)"
      ],
      "metadata": {
        "colab": {
          "base_uri": "https://localhost:8080/"
        },
        "id": "MDA1XdcbgNWH",
        "outputId": "9f7bfb19-8990-4f32-a211-6a29c34049de"
      },
      "execution_count": null,
      "outputs": [
        {
          "output_type": "stream",
          "name": "stdout",
          "text": [
            "num1:8\n",
            "num2:4\n",
            "la resta es:  4.0\n"
          ]
        }
      ]
    },
    {
      "cell_type": "code",
      "source": [
        "#hacer un ejercicio en python que obtenga la nota final de Progra 3 del computo 1\n",
        "#donde el usuario va introducir las notas, haciendo uso de listas y de funciones.\n",
        "from functool import reduce\n",
        "\n",
        "notas = []\n",
        "for i in range(1,3):\n",
        "  nota = float(input(\"Act: \"+ str(i)+ \": \"))\n",
        "  porcentaje = float(input(\"Porcentaje: \"))\n",
        "  notas.append([\"Act. \"+ str(i), nota, porcentaje])\n",
        "  prom - reduce(calcularPromedio, notas, 0)\n",
        "  print(\"Nota final de c1 \", prom)"
      ],
      "metadata": {
        "id": "hP5QoGqKWJ8-"
      },
      "execution_count": null,
      "outputs": []
    }
  ]
}