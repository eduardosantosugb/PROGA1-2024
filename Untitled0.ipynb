{
  "nbformat": 4,
  "nbformat_minor": 0,
  "metadata": {
    "colab": {
      "provenance": [],
      "authorship_tag": "ABX9TyOuGMbUWaWgXDp8A6J1M1gT",
      "include_colab_link": true
    },
    "kernelspec": {
      "name": "python3",
      "display_name": "Python 3"
    },
    "language_info": {
      "name": "python"
    }
  },
  "cells": [
    {
      "cell_type": "markdown",
      "metadata": {
        "id": "view-in-github",
        "colab_type": "text"
      },
      "source": [
        "<a href=\"https://colab.research.google.com/github/eduardosantosugb/PROGA1-2024/blob/main/Untitled0.ipynb\" target=\"_parent\"><img src=\"https://colab.research.google.com/assets/colab-badge.svg\" alt=\"Open In Colab\"/></a>"
      ]
    },
    {
      "cell_type": "code",
      "execution_count": null,
      "metadata": {
        "colab": {
          "base_uri": "https://localhost:8080/"
        },
        "id": "pMaektN7aJw8",
        "outputId": "e3dc796f-aecd-4060-9c67-b26653ac8e45"
      },
      "outputs": [
        {
          "output_type": "stream",
          "name": "stdout",
          "text": [
            "hola mundo\n",
            "Bienvenidos a la clase de programacion computaciona lll\n"
          ]
        }
      ],
      "source": [
        "print(\"hola mundo\")\n",
        "print(\"Bienvenidos a la clase de programacion computaciona lll\")"
      ]
    },
    {
      "cell_type": "code",
      "source": [
        "nombre = \"Eduardo Santos\"\n",
        "edad = \"18\"\n",
        "print(nombre, edad)"
      ],
      "metadata": {
        "colab": {
          "base_uri": "https://localhost:8080/"
        },
        "id": "veJLqC-Rbp4H",
        "outputId": "aa5ab128-564e-4380-cc18-9ca5fa5050da"
      },
      "execution_count": null,
      "outputs": [
        {
          "output_type": "stream",
          "name": "stdout",
          "text": [
            "Eduardo Santos 18\n"
          ]
        }
      ]
    },
    {
      "cell_type": "code",
      "source": [
        "num1 = 5\n",
        "num2 = 8.9\n",
        "suma = num1 + num2\n",
        "print(\"la suma es: \", suma)"
      ],
      "metadata": {
        "colab": {
          "base_uri": "https://localhost:8080/"
        },
        "id": "169YPcWBdDcW",
        "outputId": "d600876e-b477-4981-b89e-74f5f55f173a"
      },
      "execution_count": null,
      "outputs": [
        {
          "output_type": "stream",
          "name": "stdout",
          "text": [
            "la suma es:  13.9\n"
          ]
        }
      ]
    },
    {
      "cell_type": "code",
      "source": [
        "num1 = float(input(\"num1:\"))\n",
        "num2 = float(input(\"num2:\"))\n",
        "suma = num1+ num2\n",
        "print(\"la suma es: \", suma)"
      ],
      "metadata": {
        "colab": {
          "base_uri": "https://localhost:8080/"
        },
        "id": "FyNk0Vxqd1XA",
        "outputId": "9011b13b-8c53-46ae-8cb7-48e40d770785"
      },
      "execution_count": null,
      "outputs": [
        {
          "output_type": "stream",
          "name": "stdout",
          "text": [
            "num1:4\n",
            "num2:4\n",
            "la suma es:  8.0\n"
          ]
        }
      ]
    },
    {
      "cell_type": "code",
      "source": [
        "num1 = float(input(\"num1:\"))\n",
        "num2 = float(input(\"num2:\"))\n",
        "resta = num1- num2\n",
        "print(\"la resta es: \", resta)"
      ],
      "metadata": {
        "colab": {
          "base_uri": "https://localhost:8080/"
        },
        "id": "MDA1XdcbgNWH",
        "outputId": "9f7bfb19-8990-4f32-a211-6a29c34049de"
      },
      "execution_count": null,
      "outputs": [
        {
          "output_type": "stream",
          "name": "stdout",
          "text": [
            "num1:8\n",
            "num2:4\n",
            "la resta es:  4.0\n"
          ]
        }
      ]
    },
    {
      "cell_type": "code",
      "source": [
        "def resta(num1, num2):\n",
        "  return num1 - num2\n",
        "  num1 = float(input(\"ingrese el primer numero: \"))\n",
        "  num2 = float(input(\"ingrese el segundo numero: \"))\n",
        "  respuesta = resta(num1,num2)\n",
        "  print (\"la resta es: \", respuesta)"
      ],
      "metadata": {
        "id": "keiuQcfQZ1N-"
      },
      "execution_count": null,
      "outputs": []
    },
    {
      "cell_type": "code",
      "source": [
        "#Hacer un ejercicio en python hacieno uso de funciones de usuarios, que convierta grados celcius a farenheint\n",
        "def celciusFarenheit(c):\n",
        "  return c*1.8 + 32\n",
        "c = int(input(\"Grados c:\"))\n",
        "f = celciusFarenheit(c)\n",
        "print(\"F: \", f)"
      ],
      "metadata": {
        "colab": {
          "base_uri": "https://localhost:8080/"
        },
        "id": "cYpRANvMT3uz",
        "outputId": "a5fe14f1-cebe-4dcd-a8df-5c41de8baa61"
      },
      "execution_count": null,
      "outputs": [
        {
          "output_type": "stream",
          "name": "stdout",
          "text": [
            "Grados c:0\n",
            "F:  32.0\n"
          ]
        }
      ]
    },
    {
      "cell_type": "code",
      "source": [
        "#Hacer un ejercicio en python haciendo uso de funciones de usuario, que convierta grados Farenheit a Celcius\n",
        "def farenheitCelcius(f):\n",
        "  return (f-32)/1.8\n",
        "f = int(input(\"Grados f:\"))\n",
        "c = farenheitCelcius(f)\n",
        "print(\"C: \", c)"
      ],
      "metadata": {
        "colab": {
          "base_uri": "https://localhost:8080/"
        },
        "collapsed": true,
        "id": "pGigsCyvYSG_",
        "outputId": "bfe437c6-151b-4a4d-8759-baa2f53b6a87"
      },
      "execution_count": null,
      "outputs": [
        {
          "output_type": "stream",
          "name": "stdout",
          "text": [
            "Grados f:1\n",
            "C:  -17.22222222222222\n"
          ]
        }
      ]
    },
    {
      "cell_type": "code",
      "source": [
        "#Hacer un ejercicio en python\n",
        "def farenheitCelcius(f):\n",
        "  return (f-32)* 5/9\n",
        "f = float(input(\"F: \"))\n",
        "\n",
        "c = farenheitCelcius(f)\n",
        "print(\"C: \", c)\n"
      ],
      "metadata": {
        "colab": {
          "base_uri": "https://localhost:8080/"
        },
        "id": "IP_5O02ZblQg",
        "outputId": "6ed1e5b2-1883-4cc1-90d4-5e70486d7237"
      },
      "execution_count": null,
      "outputs": [
        {
          "output_type": "stream",
          "name": "stdout",
          "text": [
            "F: 100.4\n",
            "C:  38.0\n"
          ]
        }
      ]
    },
    {
      "cell_type": "code",
      "source": [
        "#hacer ejercicio en python grados celcius a kelvin\n",
        "def celciusKelvin(c):\n",
        "  return c + 273.15\n",
        "c = float(input(\"C: \"))\n",
        "k = celciusKelvin(c)\n",
        "print(\"K: \", k)\n"
      ],
      "metadata": {
        "colab": {
          "base_uri": "https://localhost:8080/"
        },
        "id": "J8EKFtWie2kB",
        "outputId": "1178e367-8d5b-4e31-eb05-99a83da601ff"
      },
      "execution_count": null,
      "outputs": [
        {
          "output_type": "stream",
          "name": "stdout",
          "text": [
            "C: 35\n",
            "K:  308.15\n"
          ]
        }
      ]
    },
    {
      "cell_type": "code",
      "source": [
        "#hacer un ejercicio en python con funciones de usuario que calcule el sueldo de\n",
        "#un empleado, segun el numero de horas trabajadas y el valor por hora\n",
        "def sueldo(numHrs, valorXhr):\n",
        "  sueldo = numHrs * valorXhr * 30\n",
        "  return sueldo\n",
        "numHrs = float(input(\"Horas trabajadas: \"))\n",
        "valorXhr = float(input(\"Valor por hora: \"))\n",
        "sueldo = sueldo(numHrs, valorXhr)\n",
        "print(\"Sueldo: \", sueldo)\n"
      ],
      "metadata": {
        "colab": {
          "base_uri": "https://localhost:8080/"
        },
        "id": "4OsnnvvrhcxY",
        "outputId": "f270567c-0941-4ab9-9335-e3ef213782fb"
      },
      "execution_count": null,
      "outputs": [
        {
          "output_type": "stream",
          "name": "stdout",
          "text": [
            "Horas trabajadas: 8\n",
            "Valor por hora: 5\n",
            "Sueldo:  1200.0\n"
          ]
        }
      ]
    },
    {
      "cell_type": "code",
      "source": [
        "#hacer un ejercicio en python con funciones de usuario que permita elevar un\n",
        "#numero a un exponente\n",
        "def exponenciacion(b,e):\n",
        "  return b**e\n",
        "b = int(input(\"Base: \"))\n",
        "e = int(input(\"Exponente: \"))\n",
        "resultado = exponenciacion(b,e)\n",
        "print(\"Resultado: \", resultado)"
      ],
      "metadata": {
        "colab": {
          "base_uri": "https://localhost:8080/"
        },
        "id": "MtOdlwfzj312",
        "outputId": "a3ec797b-cdc5-48d2-8c2a-83009127733f"
      },
      "execution_count": null,
      "outputs": [
        {
          "output_type": "stream",
          "name": "stdout",
          "text": [
            "Base: 8\n",
            "Exponente: 3\n",
            "Resultado:  512\n"
          ]
        }
      ]
    },
    {
      "cell_type": "markdown",
      "source": [
        "Funciones anonimas"
      ],
      "metadata": {
        "id": "ca03yyKvRmWo"
      }
    },
    {
      "cell_type": "code",
      "source": [
        "## FUNCIONES ANONIMAs\n",
        "a = float (input(\"ingrese el primer numero: \"))\n",
        "b = float (input(\"ingrese el segundo numero: \"))\n",
        "print(\"la suma de \",a, \"y\", b, \"es: \", (lambda a,b: a+b)(a,b))"
      ],
      "metadata": {
        "colab": {
          "base_uri": "https://localhost:8080/"
        },
        "id": "bwj9rASzPl2V",
        "outputId": "4f0301c1-9f6a-4b1c-d6dd-59120be64db8"
      },
      "execution_count": 4,
      "outputs": [
        {
          "output_type": "stream",
          "name": "stdout",
          "text": [
            "ingrese el primer numero: 5\n",
            "ingrese el segundo numero: 5\n",
            "la suma de  5.0 y 5.0 es:  10.0\n"
          ]
        }
      ]
    },
    {
      "cell_type": "markdown",
      "source": [
        "FUNCIONES PRECONSTRUIDAS"
      ],
      "metadata": {
        "id": "CZd06FygSZ4h"
      }
    },
    {
      "cell_type": "code",
      "source": [
        "#map\n",
        "def extraerPrimervalor(dia):\n",
        "  return dia[0]\n",
        "semana = [\"Domingo\", \"Lunes\", \"Martes\", \"Miercoles\", \"Jueves\", \"Viernes\", \"Sabado\"]\n",
        "primerValorSemana = map(lambda dia: dia[0], semana)\n",
        "print(list(primerValorSemana))\n",
        "mayusculas = map(lambda dia: dia.upper(), semana)\n",
        "print(list(mayusculas))\n",
        "print( list(map(extraerPrimervalor, semana)))"
      ],
      "metadata": {
        "colab": {
          "base_uri": "https://localhost:8080/"
        },
        "id": "VDts4DMISTrU",
        "outputId": "4f7e2ecf-9895-46a5-822e-473950281a2d"
      },
      "execution_count": 5,
      "outputs": [
        {
          "output_type": "stream",
          "name": "stdout",
          "text": [
            "['D', 'L', 'M', 'M', 'J', 'V', 'S']\n",
            "['DOMINGO', 'LUNES', 'MARTES', 'MIERCOLES', 'JUEVES', 'VIERNES', 'SABADO']\n",
            "['D', 'L', 'M', 'M', 'J', 'V', 'S']\n"
          ]
        }
      ]
    },
    {
      "cell_type": "code",
      "source": [
        "numeros = [2, 4, 6, 8, 7, 9]\n",
        "potencia = int(input(\"potencia:\"))\n",
        "numeroPotencia = map(lambda num: num**potencia, numeros)\n",
        "print(list(numeroPotencia))"
      ],
      "metadata": {
        "colab": {
          "base_uri": "https://localhost:8080/"
        },
        "id": "infB0QQFT53P",
        "outputId": "cac34bed-bdc2-4a67-f351-e33f3756696a"
      },
      "execution_count": 7,
      "outputs": [
        {
          "output_type": "stream",
          "name": "stdout",
          "text": [
            "potencia:2\n",
            "[4, 16, 36, 64, 49, 81]\n"
          ]
        }
      ]
    },
    {
      "cell_type": "code",
      "source": [
        "#TABLAS DE MULTIPLICAR\n",
        "ntabla = int(input(\"Tabla\"))\n",
        "numeros =[1, 2, 3, 4, 5, 6, 7, 8, 9, 10]\n",
        "tabla = map(lambda num: num*ntabla, numeros)\n",
        "print(list(tabla))"
      ],
      "metadata": {
        "colab": {
          "base_uri": "https://localhost:8080/"
        },
        "id": "k402N4ObVI2v",
        "outputId": "fb11e33b-0acf-4099-aa79-7074a75afd8c"
      },
      "execution_count": 8,
      "outputs": [
        {
          "output_type": "stream",
          "name": "stdout",
          "text": [
            "Tabla7\n",
            "[7, 14, 21, 28, 35, 42, 49, 56, 63, 70]\n"
          ]
        }
      ]
    },
    {
      "cell_type": "code",
      "source": [
        "serie = [5, 6, 9, 2, 7, 8]\n",
        "pares = filter(lambda num: num%2==0, serie)\n",
        "print(list(pares))\n",
        "\n",
        "impares = filter(lambda num: num%2!=0, serie)\n",
        "print(list(impares))"
      ],
      "metadata": {
        "colab": {
          "base_uri": "https://localhost:8080/"
        },
        "id": "wPbOc4EeWib_",
        "outputId": "3ffb1eb6-8239-48ad-a71a-711d3e6c5f00"
      },
      "execution_count": 9,
      "outputs": [
        {
          "output_type": "stream",
          "name": "stdout",
          "text": [
            "[6, 2, 8]\n",
            "[5, 9, 7]\n"
          ]
        }
      ]
    },
    {
      "cell_type": "markdown",
      "source": [
        "Ejercicio usando la funcion filter y lambda que en una serie de notas introducida por el usuario establezca cuantos pasan la materia y cuantos no pasan"
      ],
      "metadata": {
        "id": "IyJtFGOhb0SP"
      }
    },
    {
      "cell_type": "code",
      "source": [
        "#Hacer Ejercicio usando la funcion filter y lambda que en una serie de notas introducida\n",
        "#por el usuario establezca cuantos pasan la materia y cuantos no pasan\n",
        "#las notas mayor o igual a 6 pasan y las notas menores a 6 no pasa\n",
        "\n",
        "entrada = input(\"Introduce las notas separadas por comas (ej. 5,7.5,8,4,6): \")\n",
        "\n",
        "\n",
        "notas = list(map(float, entrada.split(\",\")))\n",
        "\n",
        "\n",
        "aprobados = list(filter(lambda nota: nota >= 6, notas))\n",
        "\n",
        "\n",
        "reprobados = list(filter(lambda nota: nota < 6, notas))\n",
        "\n",
        "\n",
        "\n",
        "print(f\"\\nTotal de notas ingresadas: {len(notas)}\")\n",
        "print(f\"Aprobados (>=6): {len(aprobados)} -> {aprobados}\")\n",
        "print(f\"Reprobados (<6): {len(reprobados)} -> {reprobados}\")"
      ],
      "metadata": {
        "colab": {
          "base_uri": "https://localhost:8080/"
        },
        "id": "4bdc0lvJbypI",
        "outputId": "c560ed6c-ec01-4099-fc1f-3397d1a6ed06"
      },
      "execution_count": 11,
      "outputs": [
        {
          "output_type": "stream",
          "name": "stdout",
          "text": [
            "Dame las notas, separadas por un espacio (ej: 5 8 10 4.5): 7 5 3 5.5\n",
            "\n",
            "--- Resumen ---\n",
            "Total de notas analizadas: 4\n",
            "Aprobados (1): [7.0]\n",
            "Reprobados (3): [5.0, 3.0, 5.5]\n"
          ]
        }
      ]
    }
  ]
}