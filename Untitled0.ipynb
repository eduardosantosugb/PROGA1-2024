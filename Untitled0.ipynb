{
  "nbformat": 4,
  "nbformat_minor": 0,
  "metadata": {
    "colab": {
      "provenance": [],
      "authorship_tag": "ABX9TyN5JwtdElxfNBaev+DgjA3n",
      "include_colab_link": true
    },
    "kernelspec": {
      "name": "python3",
      "display_name": "Python 3"
    },
    "language_info": {
      "name": "python"
    }
  },
  "cells": [
    {
      "cell_type": "markdown",
      "metadata": {
        "id": "view-in-github",
        "colab_type": "text"
      },
      "source": [
        "<a href=\"https://colab.research.google.com/github/eduardosantosugb/PROGA1-2024/blob/main/Untitled0.ipynb\" target=\"_parent\"><img src=\"https://colab.research.google.com/assets/colab-badge.svg\" alt=\"Open In Colab\"/></a>"
      ]
    },
    {
      "cell_type": "code",
      "execution_count": null,
      "metadata": {
        "colab": {
          "base_uri": "https://localhost:8080/"
        },
        "id": "pMaektN7aJw8",
        "outputId": "e3dc796f-aecd-4060-9c67-b26653ac8e45"
      },
      "outputs": [
        {
          "output_type": "stream",
          "name": "stdout",
          "text": [
            "hola mundo\n",
            "Bienvenidos a la clase de programacion computaciona lll\n"
          ]
        }
      ],
      "source": [
        "print(\"hola mundo\")\n",
        "print(\"Bienvenidos a la clase de programacion computaciona lll\")"
      ]
    },
    {
      "cell_type": "code",
      "source": [
        "nombre = \"Eduardo Santos\"\n",
        "edad = \"18\"\n",
        "print(nombre, edad)"
      ],
      "metadata": {
        "colab": {
          "base_uri": "https://localhost:8080/"
        },
        "id": "veJLqC-Rbp4H",
        "outputId": "aa5ab128-564e-4380-cc18-9ca5fa5050da"
      },
      "execution_count": null,
      "outputs": [
        {
          "output_type": "stream",
          "name": "stdout",
          "text": [
            "Eduardo Santos 18\n"
          ]
        }
      ]
    },
    {
      "cell_type": "code",
      "source": [
        "num1 = 5\n",
        "num2 = 8.9\n",
        "suma = num1 + num2\n",
        "print(\"la suma es: \", suma)"
      ],
      "metadata": {
        "colab": {
          "base_uri": "https://localhost:8080/"
        },
        "id": "169YPcWBdDcW",
        "outputId": "d600876e-b477-4981-b89e-74f5f55f173a"
      },
      "execution_count": null,
      "outputs": [
        {
          "output_type": "stream",
          "name": "stdout",
          "text": [
            "la suma es:  13.9\n"
          ]
        }
      ]
    },
    {
      "cell_type": "code",
      "source": [
        "num1 = float(input(\"num1:\"))\n",
        "num2 = float(input(\"num2:\"))\n",
        "suma = num1+ num2\n",
        "print(\"la suma es: \", suma)"
      ],
      "metadata": {
        "colab": {
          "base_uri": "https://localhost:8080/"
        },
        "id": "FyNk0Vxqd1XA",
        "outputId": "9011b13b-8c53-46ae-8cb7-48e40d770785"
      },
      "execution_count": null,
      "outputs": [
        {
          "output_type": "stream",
          "name": "stdout",
          "text": [
            "num1:4\n",
            "num2:4\n",
            "la suma es:  8.0\n"
          ]
        }
      ]
    },
    {
      "cell_type": "code",
      "source": [
        "num1 = float(input(\"num1:\"))\n",
        "num2 = float(input(\"num2:\"))\n",
        "resta = num1- num2\n",
        "print(\"la resta es: \", resta)"
      ],
      "metadata": {
        "colab": {
          "base_uri": "https://localhost:8080/"
        },
        "id": "MDA1XdcbgNWH",
        "outputId": "9f7bfb19-8990-4f32-a211-6a29c34049de"
      },
      "execution_count": null,
      "outputs": [
        {
          "output_type": "stream",
          "name": "stdout",
          "text": [
            "num1:8\n",
            "num2:4\n",
            "la resta es:  4.0\n"
          ]
        }
      ]
    },
    {
      "cell_type": "code",
      "source": [
        "def resta(num1, num2):\n",
        "  return num1 - num2\n",
        "  num1 = float(input(\"ingrese el primer numero: \"))\n",
        "  num2 = float(input(\"ingrese el segundo numero: \"))\n",
        "  respuesta = resta(num1,num2)\n",
        "  print (\"la resta es: \", respuesta)"
      ],
      "metadata": {
        "id": "keiuQcfQZ1N-"
      },
      "execution_count": 1,
      "outputs": []
    },
    {
      "cell_type": "code",
      "source": [
        "#Hacer un ejercicio en python hacieno uso de funciones de usuarios, que convierta grados celcius a farenheint\n",
        "def celciusFarenheit(c):\n",
        "  return c*1.8 + 32\n",
        "c = int(input(\"Grados c:\"))\n",
        "f = celciusFarenheit(c)\n",
        "print(\"F: \", f)"
      ],
      "metadata": {
        "colab": {
          "base_uri": "https://localhost:8080/"
        },
        "id": "cYpRANvMT3uz",
        "outputId": "a5fe14f1-cebe-4dcd-a8df-5c41de8baa61"
      },
      "execution_count": 9,
      "outputs": [
        {
          "output_type": "stream",
          "name": "stdout",
          "text": [
            "Grados c:0\n",
            "F:  32.0\n"
          ]
        }
      ]
    },
    {
      "cell_type": "code",
      "source": [
        "#Hacer un ejercicio en python haciendo uso de funciones de usuario, que convierta grados Farenheit a Celcius\n",
        "def farenheitCelcius(f):\n",
        "  return (f-32)/1.8\n",
        "f = int(input(\"Grados f:\"))\n",
        "c = farenheitCelcius(f)\n",
        "print(\"C: \", c)"
      ],
      "metadata": {
        "colab": {
          "base_uri": "https://localhost:8080/"
        },
        "collapsed": true,
        "id": "pGigsCyvYSG_",
        "outputId": "bfe437c6-151b-4a4d-8759-baa2f53b6a87"
      },
      "execution_count": 11,
      "outputs": [
        {
          "output_type": "stream",
          "name": "stdout",
          "text": [
            "Grados f:1\n",
            "C:  -17.22222222222222\n"
          ]
        }
      ]
    },
    {
      "cell_type": "code",
      "source": [
        "#Hacer un ejercicio en python\n",
        "def farenheitCelcius(f):\n",
        "  return (f-32)* 5/9\n",
        "f = float(input(\"F: \"))\n",
        "\n",
        "c = farenheitCelcius(f)\n",
        "print(\"C: \", c)\n"
      ],
      "metadata": {
        "colab": {
          "base_uri": "https://localhost:8080/"
        },
        "id": "IP_5O02ZblQg",
        "outputId": "6ed1e5b2-1883-4cc1-90d4-5e70486d7237"
      },
      "execution_count": 14,
      "outputs": [
        {
          "output_type": "stream",
          "name": "stdout",
          "text": [
            "F: 100.4\n",
            "C:  38.0\n"
          ]
        }
      ]
    },
    {
      "cell_type": "code",
      "source": [
        "#hacer ejercicio en python grados celcius a kelvin\n",
        "def celciusKelvin(c):\n",
        "  return c + 273.15\n",
        "c = float(input(\"C: \"))\n",
        "k = celciusKelvin(c)\n",
        "print(\"K: \", k)\n"
      ],
      "metadata": {
        "colab": {
          "base_uri": "https://localhost:8080/"
        },
        "id": "J8EKFtWie2kB",
        "outputId": "1178e367-8d5b-4e31-eb05-99a83da601ff"
      },
      "execution_count": 15,
      "outputs": [
        {
          "output_type": "stream",
          "name": "stdout",
          "text": [
            "C: 35\n",
            "K:  308.15\n"
          ]
        }
      ]
    },
    {
      "cell_type": "code",
      "source": [
        "#hacer un ejercicio en python con funciones de usuario que calcule el sueldo de\n",
        "#un empleado, segun el numero de horas trabajadas y el valor por hora\n",
        "def sueldo(numHrs, valorXhr):\n",
        "  sueldo = numHrs * valorXhr * 30\n",
        "  return sueldo\n",
        "numHrs = float(input(\"Horas trabajadas: \"))\n",
        "valorXhr = float(input(\"Valor por hora: \"))\n",
        "sueldo = sueldo(numHrs, valorXhr)\n",
        "print(\"Sueldo: \", sueldo)\n",
        ""
      ],
      "metadata": {
        "colab": {
          "base_uri": "https://localhost:8080/"
        },
        "id": "4OsnnvvrhcxY",
        "outputId": "f270567c-0941-4ab9-9335-e3ef213782fb"
      },
      "execution_count": 17,
      "outputs": [
        {
          "output_type": "stream",
          "name": "stdout",
          "text": [
            "Horas trabajadas: 8\n",
            "Valor por hora: 5\n",
            "Sueldo:  1200.0\n"
          ]
        }
      ]
    },
    {
      "cell_type": "code",
      "source": [
        "#hacer un ejercicio en python con funciones de usuario que permita elevar un\n",
        "#numero a un exponente\n",
        "def exponenciacion(b,e):\n",
        "  return b**e\n",
        "b = int(input(\"Base: \"))\n",
        "e = int(input(\"Exponente: \"))\n",
        "resultado = exponenciacion(b,e)\n",
        "print(\"Resultado: \", resultado)"
      ],
      "metadata": {
        "colab": {
          "base_uri": "https://localhost:8080/"
        },
        "id": "MtOdlwfzj312",
        "outputId": "a3ec797b-cdc5-48d2-8c2a-83009127733f"
      },
      "execution_count": 22,
      "outputs": [
        {
          "output_type": "stream",
          "name": "stdout",
          "text": [
            "Base: 8\n",
            "Exponente: 3\n",
            "Resultado:  512\n"
          ]
        }
      ]
    }
  ]
}