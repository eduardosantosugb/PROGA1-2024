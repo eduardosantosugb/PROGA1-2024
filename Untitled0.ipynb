{
  "cells": [
    {
      "cell_type": "markdown",
      "metadata": {
        "id": "view-in-github",
        "colab_type": "text"
      },
      "source": [
        "<a href=\"https://colab.research.google.com/github/eduardosantosugb/PROGA1-2024/blob/main/Untitled0.ipynb\" target=\"_parent\"><img src=\"https://colab.research.google.com/assets/colab-badge.svg\" alt=\"Open In Colab\"/></a>"
      ]
    },
    {
      "cell_type": "code",
      "execution_count": null,
      "metadata": {
        "colab": {
          "base_uri": "https://localhost:8080/"
        },
        "id": "pMaektN7aJw8",
        "outputId": "e3dc796f-aecd-4060-9c67-b26653ac8e45"
      },
      "outputs": [
        {
          "name": "stdout",
          "output_type": "stream",
          "text": [
            "hola mundo\n",
            "Bienvenidos a la clase de programacion computaciona lll\n"
          ]
        }
      ],
      "source": [
        "print(\"hola mundo\")\n",
        "print(\"Bienvenidos a la clase de programacion computaciona lll\")"
      ]
    },
    {
      "cell_type": "code",
      "execution_count": null,
      "metadata": {
        "colab": {
          "base_uri": "https://localhost:8080/"
        },
        "id": "veJLqC-Rbp4H",
        "outputId": "aa5ab128-564e-4380-cc18-9ca5fa5050da"
      },
      "outputs": [
        {
          "name": "stdout",
          "output_type": "stream",
          "text": [
            "Eduardo Santos 18\n"
          ]
        }
      ],
      "source": [
        "nombre = \"Eduardo Santos\"\n",
        "edad = \"18\"\n",
        "print(nombre, edad)"
      ]
    },
    {
      "cell_type": "code",
      "execution_count": null,
      "metadata": {
        "colab": {
          "base_uri": "https://localhost:8080/"
        },
        "id": "169YPcWBdDcW",
        "outputId": "d600876e-b477-4981-b89e-74f5f55f173a"
      },
      "outputs": [
        {
          "name": "stdout",
          "output_type": "stream",
          "text": [
            "la suma es:  13.9\n"
          ]
        }
      ],
      "source": [
        "num1 = 5\n",
        "num2 = 8.9\n",
        "suma = num1 + num2\n",
        "print(\"la suma es: \", suma)"
      ]
    },
    {
      "cell_type": "code",
      "execution_count": null,
      "metadata": {
        "colab": {
          "base_uri": "https://localhost:8080/"
        },
        "id": "FyNk0Vxqd1XA",
        "outputId": "9011b13b-8c53-46ae-8cb7-48e40d770785"
      },
      "outputs": [
        {
          "name": "stdout",
          "output_type": "stream",
          "text": [
            "num1:4\n",
            "num2:4\n",
            "la suma es:  8.0\n"
          ]
        }
      ],
      "source": [
        "num1 = float(input(\"num1:\"))\n",
        "num2 = float(input(\"num2:\"))\n",
        "suma = num1+ num2\n",
        "print(\"la suma es: \", suma)"
      ]
    },
    {
      "cell_type": "code",
      "execution_count": null,
      "metadata": {
        "colab": {
          "base_uri": "https://localhost:8080/"
        },
        "id": "MDA1XdcbgNWH",
        "outputId": "9f7bfb19-8990-4f32-a211-6a29c34049de"
      },
      "outputs": [
        {
          "name": "stdout",
          "output_type": "stream",
          "text": [
            "num1:8\n",
            "num2:4\n",
            "la resta es:  4.0\n"
          ]
        }
      ],
      "source": [
        "num1 = float(input(\"num1:\"))\n",
        "num2 = float(input(\"num2:\"))\n",
        "resta = num1- num2\n",
        "print(\"la resta es: \", resta)"
      ]
    },
    {
      "cell_type": "code",
      "execution_count": null,
      "metadata": {
        "id": "keiuQcfQZ1N-"
      },
      "outputs": [],
      "source": [
        "def resta(num1, num2):\n",
        "  return num1 - num2\n",
        "  num1 = float(input(\"ingrese el primer numero: \"))\n",
        "  num2 = float(input(\"ingrese el segundo numero: \"))\n",
        "  respuesta = resta(num1,num2)\n",
        "  print (\"la resta es: \", respuesta)"
      ]
    },
    {
      "cell_type": "code",
      "execution_count": null,
      "metadata": {
        "colab": {
          "base_uri": "https://localhost:8080/"
        },
        "id": "cYpRANvMT3uz",
        "outputId": "a5fe14f1-cebe-4dcd-a8df-5c41de8baa61"
      },
      "outputs": [
        {
          "name": "stdout",
          "output_type": "stream",
          "text": [
            "Grados c:0\n",
            "F:  32.0\n"
          ]
        }
      ],
      "source": [
        "#Hacer un ejercicio en python hacieno uso de funciones de usuarios, que convierta grados celcius a farenheint\n",
        "def celciusFarenheit(c):\n",
        "  return c*1.8 + 32\n",
        "c = int(input(\"Grados c:\"))\n",
        "f = celciusFarenheit(c)\n",
        "print(\"F: \", f)"
      ]
    },
    {
      "cell_type": "code",
      "execution_count": null,
      "metadata": {
        "colab": {
          "base_uri": "https://localhost:8080/"
        },
        "collapsed": true,
        "id": "pGigsCyvYSG_",
        "outputId": "bfe437c6-151b-4a4d-8759-baa2f53b6a87"
      },
      "outputs": [
        {
          "name": "stdout",
          "output_type": "stream",
          "text": [
            "Grados f:1\n",
            "C:  -17.22222222222222\n"
          ]
        }
      ],
      "source": [
        "#Hacer un ejercicio en python haciendo uso de funciones de usuario, que convierta grados Farenheit a Celcius\n",
        "def farenheitCelcius(f):\n",
        "  return (f-32)/1.8\n",
        "f = int(input(\"Grados f:\"))\n",
        "c = farenheitCelcius(f)\n",
        "print(\"C: \", c)"
      ]
    },
    {
      "cell_type": "code",
      "execution_count": null,
      "metadata": {
        "colab": {
          "base_uri": "https://localhost:8080/"
        },
        "id": "IP_5O02ZblQg",
        "outputId": "6ed1e5b2-1883-4cc1-90d4-5e70486d7237"
      },
      "outputs": [
        {
          "name": "stdout",
          "output_type": "stream",
          "text": [
            "F: 100.4\n",
            "C:  38.0\n"
          ]
        }
      ],
      "source": [
        "#Hacer un ejercicio en python\n",
        "def farenheitCelcius(f):\n",
        "  return (f-32)* 5/9\n",
        "f = float(input(\"F: \"))\n",
        "\n",
        "c = farenheitCelcius(f)\n",
        "print(\"C: \", c)\n"
      ]
    },
    {
      "cell_type": "code",
      "execution_count": null,
      "metadata": {
        "colab": {
          "base_uri": "https://localhost:8080/"
        },
        "id": "J8EKFtWie2kB",
        "outputId": "1178e367-8d5b-4e31-eb05-99a83da601ff"
      },
      "outputs": [
        {
          "name": "stdout",
          "output_type": "stream",
          "text": [
            "C: 35\n",
            "K:  308.15\n"
          ]
        }
      ],
      "source": [
        "#hacer ejercicio en python grados celcius a kelvin\n",
        "def celciusKelvin(c):\n",
        "  return c + 273.15\n",
        "c = float(input(\"C: \"))\n",
        "k = celciusKelvin(c)\n",
        "print(\"K: \", k)\n"
      ]
    },
    {
      "cell_type": "code",
      "execution_count": null,
      "metadata": {
        "colab": {
          "base_uri": "https://localhost:8080/"
        },
        "id": "4OsnnvvrhcxY",
        "outputId": "f270567c-0941-4ab9-9335-e3ef213782fb"
      },
      "outputs": [
        {
          "name": "stdout",
          "output_type": "stream",
          "text": [
            "Horas trabajadas: 8\n",
            "Valor por hora: 5\n",
            "Sueldo:  1200.0\n"
          ]
        }
      ],
      "source": [
        "#hacer un ejercicio en python con funciones de usuario que calcule el sueldo de\n",
        "#un empleado, segun el numero de horas trabajadas y el valor por hora\n",
        "def sueldo(numHrs, valorXhr):\n",
        "  sueldo = numHrs * valorXhr * 30\n",
        "  return sueldo\n",
        "numHrs = float(input(\"Horas trabajadas: \"))\n",
        "valorXhr = float(input(\"Valor por hora: \"))\n",
        "sueldo = sueldo(numHrs, valorXhr)\n",
        "print(\"Sueldo: \", sueldo)\n"
      ]
    },
    {
      "cell_type": "code",
      "execution_count": null,
      "metadata": {
        "colab": {
          "base_uri": "https://localhost:8080/"
        },
        "id": "MtOdlwfzj312",
        "outputId": "a3ec797b-cdc5-48d2-8c2a-83009127733f"
      },
      "outputs": [
        {
          "name": "stdout",
          "output_type": "stream",
          "text": [
            "Base: 8\n",
            "Exponente: 3\n",
            "Resultado:  512\n"
          ]
        }
      ],
      "source": [
        "#hacer un ejercicio en python con funciones de usuario que permita elevar un\n",
        "#numero a un exponente\n",
        "def exponenciacion(b,e):\n",
        "  return b**e\n",
        "b = int(input(\"Base: \"))\n",
        "e = int(input(\"Exponente: \"))\n",
        "resultado = exponenciacion(b,e)\n",
        "print(\"Resultado: \", resultado)"
      ]
    },
    {
      "cell_type": "markdown",
      "metadata": {
        "id": "ca03yyKvRmWo"
      },
      "source": [
        "Funciones anonimas"
      ]
    },
    {
      "cell_type": "code",
      "execution_count": null,
      "metadata": {
        "colab": {
          "base_uri": "https://localhost:8080/"
        },
        "id": "bwj9rASzPl2V",
        "outputId": "4f0301c1-9f6a-4b1c-d6dd-59120be64db8"
      },
      "outputs": [
        {
          "name": "stdout",
          "output_type": "stream",
          "text": [
            "ingrese el primer numero: 5\n",
            "ingrese el segundo numero: 5\n",
            "la suma de  5.0 y 5.0 es:  10.0\n"
          ]
        }
      ],
      "source": [
        "## FUNCIONES ANONIMAs\n",
        "a = float (input(\"ingrese el primer numero: \"))\n",
        "b = float (input(\"ingrese el segundo numero: \"))\n",
        "print(\"la suma de \",a, \"y\", b, \"es: \", (lambda a,b: a+b)(a,b))"
      ]
    },
    {
      "cell_type": "markdown",
      "metadata": {
        "id": "CZd06FygSZ4h"
      },
      "source": [
        "FUNCIONES PRECONSTRUIDAS"
      ]
    },
    {
      "cell_type": "code",
      "execution_count": null,
      "metadata": {
        "colab": {
          "base_uri": "https://localhost:8080/"
        },
        "id": "VDts4DMISTrU",
        "outputId": "4f7e2ecf-9895-46a5-822e-473950281a2d"
      },
      "outputs": [
        {
          "name": "stdout",
          "output_type": "stream",
          "text": [
            "['D', 'L', 'M', 'M', 'J', 'V', 'S']\n",
            "['DOMINGO', 'LUNES', 'MARTES', 'MIERCOLES', 'JUEVES', 'VIERNES', 'SABADO']\n",
            "['D', 'L', 'M', 'M', 'J', 'V', 'S']\n"
          ]
        }
      ],
      "source": [
        "#map\n",
        "def extraerPrimervalor(dia):\n",
        "  return dia[0]\n",
        "semana = [\"Domingo\", \"Lunes\", \"Martes\", \"Miercoles\", \"Jueves\", \"Viernes\", \"Sabado\"]\n",
        "primerValorSemana = map(lambda dia: dia[0], semana)\n",
        "print(list(primerValorSemana))\n",
        "mayusculas = map(lambda dia: dia.upper(), semana)\n",
        "print(list(mayusculas))\n",
        "print( list(map(extraerPrimervalor, semana)))"
      ]
    },
    {
      "cell_type": "code",
      "execution_count": null,
      "metadata": {
        "colab": {
          "base_uri": "https://localhost:8080/"
        },
        "id": "infB0QQFT53P",
        "outputId": "cac34bed-bdc2-4a67-f351-e33f3756696a"
      },
      "outputs": [
        {
          "name": "stdout",
          "output_type": "stream",
          "text": [
            "potencia:2\n",
            "[4, 16, 36, 64, 49, 81]\n"
          ]
        }
      ],
      "source": [
        "numeros = [2, 4, 6, 8, 7, 9]\n",
        "potencia = int(input(\"potencia:\"))\n",
        "numeroPotencia = map(lambda num: num**potencia, numeros)\n",
        "print(list(numeroPotencia))"
      ]
    },
    {
      "cell_type": "code",
      "execution_count": null,
      "metadata": {
        "colab": {
          "base_uri": "https://localhost:8080/"
        },
        "id": "k402N4ObVI2v",
        "outputId": "fb11e33b-0acf-4099-aa79-7074a75afd8c"
      },
      "outputs": [
        {
          "name": "stdout",
          "output_type": "stream",
          "text": [
            "Tabla7\n",
            "[7, 14, 21, 28, 35, 42, 49, 56, 63, 70]\n"
          ]
        }
      ],
      "source": [
        "#TABLAS DE MULTIPLICAR\n",
        "ntabla = int(input(\"Tabla\"))\n",
        "numeros =[1, 2, 3, 4, 5, 6, 7, 8, 9, 10]\n",
        "tabla = map(lambda num: num*ntabla, numeros)\n",
        "print(list(tabla))"
      ]
    },
    {
      "cell_type": "code",
      "execution_count": null,
      "metadata": {
        "colab": {
          "base_uri": "https://localhost:8080/"
        },
        "id": "wPbOc4EeWib_",
        "outputId": "3ffb1eb6-8239-48ad-a71a-711d3e6c5f00"
      },
      "outputs": [
        {
          "name": "stdout",
          "output_type": "stream",
          "text": [
            "[6, 2, 8]\n",
            "[5, 9, 7]\n"
          ]
        }
      ],
      "source": [
        "serie = [5, 6, 9, 2, 7, 8]\n",
        "pares = filter(lambda num: num%2==0, serie)\n",
        "print(list(pares))\n",
        "\n",
        "impares = filter(lambda num: num%2!=0, serie)\n",
        "print(list(impares))"
      ]
    },
    {
      "cell_type": "markdown",
      "metadata": {
        "id": "IyJtFGOhb0SP"
      },
      "source": [
        "Ejercicio usando la funcion filter y lambda que en una serie de notas introducida por el usuario establezca cuantos pasan la materia y cuantos no pasan"
      ]
    },
    {
      "cell_type": "code",
      "execution_count": null,
      "metadata": {
        "colab": {
          "base_uri": "https://localhost:8080/"
        },
        "id": "4bdc0lvJbypI",
        "outputId": "c560ed6c-ec01-4099-fc1f-3397d1a6ed06"
      },
      "outputs": [
        {
          "name": "stdout",
          "output_type": "stream",
          "text": [
            "Dame las notas, separadas por un espacio (ej: 5 8 10 4.5): 7 5 3 5.5\n",
            "\n",
            "--- Resumen ---\n",
            "Total de notas analizadas: 4\n",
            "Aprobados (1): [7.0]\n",
            "Reprobados (3): [5.0, 3.0, 5.5]\n"
          ]
        }
      ],
      "source": [
        "#Hacer Ejercicio usando la funcion filter y lambda que en una serie de notas introducida\n",
        "#por el usuario establezca cuantos pasan la materia y cuantos no pasan\n",
        "#las notas mayor o igual a 6 pasan y las notas menores a 6 no pasa\n",
        "\n",
        "entrada = input(\"Introduce las notas separadas por comas (ej. 5,7.5,8,4,6): \")\n",
        "\n",
        "\n",
        "notas = list(map(float, entrada.split(\",\")))\n",
        "\n",
        "\n",
        "aprobados = list(filter(lambda nota: nota >= 6, notas))\n",
        "\n",
        "\n",
        "reprobados = list(filter(lambda nota: nota < 6, notas))\n",
        "\n",
        "\n",
        "\n",
        "print(f\"\\nTotal de notas ingresadas: {len(notas)}\")\n",
        "print(f\"Aprobados (>=6): {len(aprobados)} -> {aprobados}\")\n",
        "print(f\"Reprobados (<6): {len(reprobados)} -> {reprobados}\")"
      ]
    },
    {
      "cell_type": "markdown",
      "metadata": {
        "id": "ImGyPF4Ge70B"
      },
      "source": [
        "TUPLAS"
      ]
    },
    {
      "cell_type": "code",
      "execution_count": null,
      "metadata": {
        "colab": {
          "base_uri": "https://localhost:8080/"
        },
        "id": "NdAT57V2fBSv",
        "outputId": "0672d77f-b8e6-4c03-ff3e-4c0d4d8b01e0"
      },
      "outputs": [
        {
          "name": "stdout",
          "output_type": "stream",
          "text": [
            "tupla  (1, 2, 3, 4, 7, 8, 9, 5, 5) primer elemento 1 el numero 5 aparece 2\n",
            "ultimo elemento  5\n",
            "rango:  (1, 2, 3, 4, 7)\n"
          ]
        }
      ],
      "source": [
        "tupla = (1,2,3,4,7,8,9,5,5)\n",
        "#tupla[0] = 5\n",
        "print(\"tupla \", tupla,\"primer elemento\", tupla[0],\"el numero 5 aparece\", tupla.count(5))\n",
        "print(\"ultimo elemento \", tupla[-1])\n",
        "print(\"rango: \", tupla[0:5])"
      ]
    },
    {
      "cell_type": "code",
      "execution_count": null,
      "metadata": {
        "colab": {
          "base_uri": "https://localhost:8080/"
        },
        "id": "5kTRpgYyiRxf",
        "outputId": "dca98d97-3a6a-4967-bc1e-05575240a7fd"
      },
      "outputs": [
        {
          "name": "stdout",
          "output_type": "stream",
          "text": [
            "Martes 12 del Septiembre del 2025\n",
            "2025-08-12 2 Martes\n",
            "12 8 2025\n"
          ]
        }
      ],
      "source": [
        "import datetime\n",
        "fecha = datetime.date.today()\n",
        "semana = (\"Domingo\", \"Lunes\", \"Martes\", \"Miercoles\", \"Jueves\", \"Viernes\", \"Sabado\")\n",
        "mes = (\"\",\"Enero\", \"Febrero\", \"Marzo\", \"Abril\", \"Mayo\", \"Junio\", \"Julio\", \"Agosto\", \"Septiembre\", \"Octubre\", \"Noviembre\", \"Diciembre\")\n",
        "dia = fecha.day\n",
        "mes = fecha.month\n",
        "year = fecha.year\n",
        "diaSemana = semana[fecha.isoweekday()]\n",
        "\n",
        "print(diaSemana, dia, \"del\", meses[mes], \"del\", year)\n",
        "print(fecha, fecha.isoweekday(), diaSemana)\n",
        "print(dia, mes, year)\n",
        "\n",
        "\n",
        "\n"
      ]
    },
    {
      "cell_type": "markdown",
      "metadata": {
        "id": "_vutJYcBmRk7"
      },
      "source": [
        "LISTAS"
      ]
    },
    {
      "cell_type": "code",
      "execution_count": null,
      "metadata": {
        "colab": {
          "base_uri": "https://localhost:8080/"
        },
        "id": "QmuC234lmTIJ",
        "outputId": "b3a8c07b-9c8e-4dbb-eb8a-9ef0e8734456"
      },
      "outputs": [
        {
          "name": "stdout",
          "output_type": "stream",
          "text": [
            "(5, 8, 9, 4, 'progra III', True, [4, 8, 9, [8, 94]])\n"
          ]
        }
      ],
      "source": [
        "lista = (5,8,9,4, \"progra III\", True, [4,8,9, [8,94]])\n",
        "print(lista)"
      ]
    },
    {
      "cell_type": "code",
      "execution_count": null,
      "metadata": {
        "colab": {
          "base_uri": "https://localhost:8080/"
        },
        "id": "8vNs1IGvm6fi",
        "outputId": "603de44a-5940-4f4b-97c8-170514033dfe"
      },
      "outputs": [
        {
          "name": "stdout",
          "output_type": "stream",
          "text": [
            "Nota final:  9.1\n"
          ]
        }
      ],
      "source": [
        "#HACER EJERCICIO EN PYTHON QUE OBTENGA LA NOTA FINAL DE PROGRAMACION 3 DEL COMPUTO 1, HACIENDO USO DE LAS LISTAS Y DE LAS FUNCIONES\n",
        "from functools import reduce\n",
        "\n",
        "def calcularPromedio(acumulado, nota):\n",
        "    if \"Parcial\" in nota[0]:\n",
        "        return acumulado + nota[1] * 0.4\n",
        "    else:\n",
        "        return acumulado + nota[1] * 0.3\n",
        "\n",
        "notas = [[\"lab1\", 8], [\"lab2\", 9], [\"Parcial\", 10]]\n",
        "prom = reduce(calcularPromedio, notas, 0)\n",
        "print(\"Nota final: \", prom)"
      ]
    },
    {
      "cell_type": "markdown",
      "metadata": {
        "id": "EwBD4zvFnnp-"
      },
      "source": [
        "DICCIONARIOS - JSON"
      ]
    },
    {
      "cell_type": "code",
      "execution_count": null,
      "metadata": {
        "colab": {
          "base_uri": "https://localhost:8080/"
        },
        "id": "ftan5BZ9nh-J",
        "outputId": "c988717d-d69e-4398-b4a7-9febe5c29ff5"
      },
      "outputs": [
        {
          "name": "stdout",
          "output_type": "stream",
          "text": [
            "eduardo santos -> Programacion I -> CI:  {'lab1': 8, 'lab2': 9.9, 'parcial': 10} 8\n"
          ]
        }
      ],
      "source": [
        "persona = {\n",
        "  \"codigo\": \"USIS018804\",\n",
        "  \"nombre\": \"eduardo santos\",\n",
        "  \"materias\": [\n",
        "    {\n",
        "      \"codigo\": 611,\n",
        "      \"nombre\": \"Programacion I\",\n",
        "      \"notas\":{\n",
        "        \"c1\": {\"lab1\":8, \"lab2\":9.9, \"parcial\":10},\n",
        "        \"c2\": {\"lab1\":7.78, \"lab2\":6.5, \"parcial\":8},\n",
        "        \"c3\": {\"lab1\":10, \"lab2\":9, \"parcial\":9}\n",
        "      }\n",
        "    },\n",
        "    {\n",
        "      \"codigo\": 612,\n",
        "      \"nombre\": \"Programacion II\",\n",
        "      \"notas\":{\n",
        "        \"c1\": {\"lab1\":5, \"lab2\": 7, \"parcial\":9},\n",
        "        \"c2\": {\"lab1\":9, \"lab2\": 6, \"parcial\": 10},\n",
        "        \"c3\": {\"lab1\":10, \"lab2\": 10, \"parcial\": 9}\n",
        "      }\n",
        "    }\n",
        "  ]\n",
        "}\n",
        "print(persona[\"nombre\"], \"->\", persona[\"materias\"][0][\"nombre\"], \"-> CI: \",\n",
        "      persona[\"materias\"][0][\"notas\"][\"c1\"],\n",
        "      persona[\"materias\"][0][\"notas\"][\"c1\"][\"lab1\"]\n",
        "      )"
      ]
    },
    {
      "cell_type": "markdown",
      "metadata": {
        "id": "eUiT79LAn_5Z"
      },
      "source": [
        "ESTRUCTURAS DE CONTROL"
      ]
    },
    {
      "cell_type": "code",
      "execution_count": null,
      "metadata": {
        "colab": {
          "base_uri": "https://localhost:8080/"
        },
        "id": "dhHYI80uoDsd",
        "outputId": "84f35c3e-097b-4149-bbc4-dc43e45fdd91"
      },
      "outputs": [
        {
          "name": "stdout",
          "output_type": "stream",
          "text": [
            "Edad: 45\n",
            "Eres un adulto responsable...\n"
          ]
        }
      ],
      "source": [
        "#if\n",
        "#hacer un ejercicio en python que permita clasificar las edades segun su rango\n",
        "edad = int(input(\"Edad: \"))\n",
        "if(edad<0):\n",
        "  print(\"Error al ingresar la edad, solo valores positivos.\")\n",
        "elif(edad<=2):\n",
        "  print(\"Eres un bebe...\")\n",
        "elif(edad<=11):\n",
        "  print(\"Eres un niño...\")\n",
        "elif(edad<18):\n",
        "  print(\"Eres un adolescente...\")\n",
        "elif(edad<65):\n",
        "  print(\"Eres un adulto responsable...\")\n",
        "elif(edad<85):\n",
        "  print(\"Eres un adulto mayor...\")\n",
        "else:\n",
        "  print(\"Larga vida...\")"
      ]
    },
    {
      "cell_type": "markdown",
      "metadata": {
        "id": "5OtsqKMGoMla"
      },
      "source": [
        "ejercicios"
      ]
    },
    {
      "cell_type": "markdown",
      "metadata": {
        "id": "hJArxFXboScj"
      },
      "source": [
        "Consumidor de agua"
      ]
    },
    {
      "cell_type": "code",
      "execution_count": null,
      "metadata": {
        "colab": {
          "base_uri": "https://localhost:8080/"
        },
        "id": "xPsaeey8oL46",
        "outputId": "13e64dc9-d295-4437-ec85-4503aac06cda"
      },
      "outputs": [
        {
          "name": "stdout",
          "output_type": "stream",
          "text": [
            "Ingrese el número de metros cúbicos consumidos: 25\n",
            "El consumo fue de 25.0 m³.\n",
            "El valor total a pagar es: $9.15\n"
          ]
        }
      ],
      "source": [
        "def calcular_tarifa_agua(consumo_mts):\n",
        "    \"\"\"\n",
        "    Calcula el valor a pagar por el consumo de agua potable\n",
        "    basado en un sistema de tarifas por tramos.\n",
        "    \"\"\"\n",
        "\n",
        "    # Definimos las constantes para que el código sea más legible\n",
        "    CUOTA_FIJA = 6.00\n",
        "    PRECIO_TRAMO_2 = 0.45\n",
        "    PRECIO_TRAMO_3 = 0.65\n",
        "\n",
        "    LIMITE_TRAMO_1 = 18\n",
        "    LIMITE_TRAMO_2 = 28\n",
        "\n",
        "    costo_total = 0.0\n",
        "\n",
        "    # Condicional para determinar en qué tramo se encuentra el consumo\n",
        "    if consumo_mts <= 0:\n",
        "        costo_total = 0.0 # No hay costo si no hay consumo\n",
        "    elif consumo_mts <= LIMITE_TRAMO_1:\n",
        "        # TRAMO 1: Se paga únicamente la cuota fija\n",
        "        costo_total = CUOTA_FIJA\n",
        "    elif consumo_mts <= LIMITE_TRAMO_2:\n",
        "        # TRAMO 2: Cuota fija + costo del exceso sobre el tramo 1\n",
        "        exceso_tramo_1 = consumo_mts - LIMITE_TRAMO_1\n",
        "        costo_total = CUOTA_FIJA + (exceso_tramo_1 * PRECIO_TRAMO_2)\n",
        "    else: # El consumo es mayor a 28\n",
        "        # TRAMO 3: Se suman los costos de todos los tramos\n",
        "\n",
        "        # Costo del primer tramo (completo)\n",
        "        costo_tramo_1 = CUOTA_FIJA\n",
        "\n",
        "        # Costo del segundo tramo (completo: 10 metros del 19 al 28)\n",
        "        metros_tramo_2 = LIMITE_TRAMO_2 - LIMITE_TRAMO_1\n",
        "        costo_tramo_2 = metros_tramo_2 * PRECIO_TRAMO_2\n",
        "\n",
        "        # Costo del exceso sobre el tramo 2\n",
        "        exceso_tramo_2 = consumo_mts - LIMITE_TRAMO_2\n",
        "        costo_tramo_3 = exceso_tramo_2 * PRECIO_TRAMO_3\n",
        "\n",
        "        costo_total = costo_tramo_1 + costo_tramo_2 + costo_tramo_3\n",
        "\n",
        "    return costo_total\n",
        "\n",
        "# --- Bloque principal para ejecutar el programa ---\n",
        "if __name__ == \"__main__\":\n",
        "    try:\n",
        "        # Pedimos al usuario que ingrese los datos\n",
        "        metros_consumidos = float(input(\"Ingrese el número de metros cúbicos consumidos: \"))\n",
        "\n",
        "        # Llamamos a la función para hacer el cálculo\n",
        "        valor_a_pagar = calcular_tarifa_agua(metros_consumidos)\n",
        "\n",
        "        # Mostramos el resultado formateado a dos decimales, como es usual en dinero\n",
        "        print(f\"El consumo fue de {metros_consumidos} m³.\")\n",
        "        print(f\"El valor total a pagar es: ${valor_a_pagar:.2f}\")\n",
        "\n",
        "    except ValueError:\n",
        "        # Manejo de error si el usuario no ingresa un número\n",
        "        print(\"Error: Por favor, ingrese un valor numérico válido.\")"
      ]
    },
    {
      "cell_type": "markdown",
      "metadata": {
        "id": "J8DlxcPoohPs"
      },
      "source": [
        "Conversor propio"
      ]
    },
    {
      "cell_type": "code",
      "execution_count": null,
      "metadata": {
        "colab": {
          "background_save": true,
          "base_uri": "https://localhost:8080/"
        },
        "id": "sD0ti6U9od1V",
        "outputId": "7fa2debf-227a-4d24-f56b-242f4fc2484f"
      },
      "outputs": [
        {
          "name": "stdout",
          "output_type": "stream",
          "text": [
            "\n",
            "--- Conversor Universal ---\n",
            "--- Empaque/Inventario ---\n",
            "1. Cajas a Unidades\n",
            "2. Unidades a Cajas\n",
            "3. Sacos a Libras\n",
            "4. Libras a Sacos\n",
            "5. Fardos a Unidades\n",
            "6. Unidades a Fardos\n",
            "\n",
            "--- Longitud ---\n",
            "7. Metros a Pies\n",
            "8. Pies a Metros\n",
            "\n",
            "--- Temperatura ---\n",
            "9. Celsius a Fahrenheit\n",
            "10. Fahrenheit a Celsius\n",
            "\n",
            "--- Almacenamiento Digital ---\n",
            "11. Gigabytes (GB) a Megabytes (MB)\n",
            "12. Megabytes (MB) a Gigabytes (GB)\n",
            "\n",
            "13. Salir\n",
            "-> 1.0 cajas son 25.0 unidades.\n",
            "\n",
            "--- Conversor Universal ---\n",
            "--- Empaque/Inventario ---\n",
            "1. Cajas a Unidades\n",
            "2. Unidades a Cajas\n",
            "3. Sacos a Libras\n",
            "4. Libras a Sacos\n",
            "5. Fardos a Unidades\n",
            "6. Unidades a Fardos\n",
            "\n",
            "--- Longitud ---\n",
            "7. Metros a Pies\n",
            "8. Pies a Metros\n",
            "\n",
            "--- Temperatura ---\n",
            "9. Celsius a Fahrenheit\n",
            "10. Fahrenheit a Celsius\n",
            "\n",
            "--- Almacenamiento Digital ---\n",
            "11. Gigabytes (GB) a Megabytes (MB)\n",
            "12. Megabytes (MB) a Gigabytes (GB)\n",
            "\n",
            "13. Salir\n",
            "-> 80.0 unidades son 3.20 cajas.\n",
            "\n",
            "--- Conversor Universal ---\n",
            "--- Empaque/Inventario ---\n",
            "1. Cajas a Unidades\n",
            "2. Unidades a Cajas\n",
            "3. Sacos a Libras\n",
            "4. Libras a Sacos\n",
            "5. Fardos a Unidades\n",
            "6. Unidades a Fardos\n",
            "\n",
            "--- Longitud ---\n",
            "7. Metros a Pies\n",
            "8. Pies a Metros\n",
            "\n",
            "--- Temperatura ---\n",
            "9. Celsius a Fahrenheit\n",
            "10. Fahrenheit a Celsius\n",
            "\n",
            "--- Almacenamiento Digital ---\n",
            "11. Gigabytes (GB) a Megabytes (MB)\n",
            "12. Megabytes (MB) a Gigabytes (GB)\n",
            "\n",
            "13. Salir\n"
          ]
        }
      ],
      "source": [
        "# --- Constantes de Conversión ---\n",
        "# Unidades de Empaque/Inventario\n",
        "UNIDADES_POR_CAJA = 25.0\n",
        "LIBRAS_POR_SACO = 50.0\n",
        "UNIDADES_POR_FARDO = 5.0\n",
        "\n",
        "# --- NUEVAS CONSTANTES ---\n",
        "# Longitud\n",
        "PIES_POR_METRO = 3.28084\n",
        "\n",
        "# Almacenamiento Digital\n",
        "MEGABYTES_POR_GIGABYTE = 1024.0\n",
        "\n",
        "# La conversión de temperatura es una fórmula, no una constante, así que se manejará directamente.\n",
        "\n",
        "def mostrar_menu():\n",
        "    \"\"\"Imprime el menú de opciones ampliado para el usuario.\"\"\"\n",
        "    print(\"\\n--- Conversor Universal ---\")\n",
        "    print(\"--- Empaque/Inventario ---\")\n",
        "    print(\"1. Cajas a Unidades\")\n",
        "    print(\"2. Unidades a Cajas\")\n",
        "    print(\"3. Sacos a Libras\")\n",
        "    print(\"4. Libras a Sacos\")\n",
        "    print(\"5. Fardos a Unidades\")\n",
        "    print(\"6. Unidades a Fardos\")\n",
        "    print(\"\\n--- Longitud ---\")\n",
        "    print(\"7. Metros a Pies\")\n",
        "    print(\"8. Pies a Metros\")\n",
        "    print(\"\\n--- Temperatura ---\")\n",
        "    print(\"9. Celsius a Fahrenheit\")\n",
        "    print(\"10. Fahrenheit a Celsius\")\n",
        "    print(\"\\n--- Almacenamiento Digital ---\")\n",
        "    print(\"11. Gigabytes (GB) a Megabytes (MB)\")\n",
        "    print(\"12. Megabytes (MB) a Gigabytes (GB)\")\n",
        "    print(\"\\n13. Salir\")\n",
        "\n",
        "# --- Bucle principal del programa ---\n",
        "while True:\n",
        "    mostrar_menu()\n",
        "    opcion = input(\"Seleccione una opción: \")\n",
        "\n",
        "    # Usamos un bloque try-except general para el input numérico\n",
        "    try:\n",
        "        # --- Conversiones de Empaque ---\n",
        "        if opcion == '1':\n",
        "            cajas = float(input(\"Ingrese la cantidad de cajas: \"))\n",
        "            unidades = cajas * UNIDADES_POR_CAJA\n",
        "            print(f\"-> {cajas} cajas son {unidades} unidades.\")\n",
        "\n",
        "        elif opcion == '2':\n",
        "            unidades = float(input(\"Ingrese la cantidad de unidades: \"))\n",
        "            cajas = unidades / UNIDADES_POR_CAJA\n",
        "            print(f\"-> {unidades} unidades son {cajas:.2f} cajas.\")\n",
        "\n",
        "        elif opcion == '3':\n",
        "            sacos = float(input(\"Ingrese la cantidad de sacos: \"))\n",
        "            libras = sacos * LIBRAS_POR_SACO\n",
        "            print(f\"-> {sacos} sacos son {libras} libras.\")\n",
        "\n",
        "        elif opcion == '4':\n",
        "            libras = float(input(\"Ingrese la cantidad de libras: \"))\n",
        "            sacos = libras / LIBRAS_POR_SACO\n",
        "            print(f\"-> {libras} libras son {sacos:.2f} sacos.\")\n",
        "\n",
        "        elif opcion == '5':\n",
        "            fardos = float(input(\"Ingrese la cantidad de fardos: \"))\n",
        "            unidades = fardos * UNIDADES_POR_FARDO\n",
        "            print(f\"-> {fardos} fardos son {unidades} unidades.\")\n",
        "\n",
        "        elif opcion == '6':\n",
        "            unidades = float(input(\"Ingrese la cantidad de unidades: \"))\n",
        "            fardos = unidades / UNIDADES_POR_FARDO\n",
        "            print(f\"-> {unidades} unidades son {fardos:.2f} fardos.\")\n",
        "\n",
        "        # --- NUEVAS CONVERSIONES ---\n",
        "        # --- Longitud ---\n",
        "        elif opcion == '7':\n",
        "            metros = float(input(\"Ingrese la cantidad de metros: \"))\n",
        "            pies = metros * PIES_POR_METRO\n",
        "            print(f\"-> {metros} metros son {pies:.2f} pies.\")\n",
        "\n",
        "        elif opcion == '8':\n",
        "            pies = float(input(\"Ingrese la cantidad de pies: \"))\n",
        "            metros = pies / PIES_POR_METRO\n",
        "            print(f\"-> {pies} pies son {metros:.2f} metros.\")\n",
        "\n",
        "        # --- Temperatura (usando fórmulas) ---\n",
        "        elif opcion == '9':\n",
        "            celsius = float(input(\"Ingrese los grados Celsius: \"))\n",
        "            fahrenheit = (celsius * 9/5) + 32\n",
        "            print(f\"-> {celsius}°C son {fahrenheit:.2f}°F.\")\n",
        "\n",
        "        elif opcion == '10':\n",
        "            fahrenheit = float(input(\"Ingrese los grados Fahrenheit: \"))\n",
        "            celsius = (fahrenheit - 32) * 5/9\n",
        "            print(f\"-> {fahrenheit}°F son {celsius:.2f}°C.\")\n",
        "\n",
        "        # --- Almacenamiento Digital ---\n",
        "        elif opcion == '11':\n",
        "            gb = float(input(\"Ingrese la cantidad de Gigabytes (GB): \"))\n",
        "            mb = gb * MEGABYTES_POR_GIGABYTE\n",
        "            print(f\"-> {gb} GB son {mb} MB.\")\n",
        "\n",
        "        elif opcion == '12':\n",
        "            mb = float(input(\"Ingrese la cantidad de Megabytes (MB): \"))\n",
        "            gb = mb / MEGABYTES_POR_GIGABYTE\n",
        "            print(f\"-> {mb} MB son {gb:.2f} GB.\")\n",
        "\n",
        "        # --- Opción de Salida ---\n",
        "        elif opcion == '13':\n",
        "            print(\"¡Gracias por usar el conversor! Adiós.\")\n",
        "            break # Rompe el bucle while y termina el programa\n",
        "\n",
        "        else:\n",
        "            print(\"Opción no válida. Por favor, intente de nuevo.\")\n",
        "\n",
        "    except ValueError:\n",
        "        print(\"Error: Entrada inválida. Por favor, ingrese solo números.\")"
      ]
    },
    {
      "cell_type": "code",
      "source": [
        "#DETERINAR SI UN NUMERO INTRODUCIDO POR UN USARIO ES PRIMO\n",
        "num = int(input(\"Ingrese un número: \"))\n",
        "\n",
        "acum = 0\n",
        "i=1\n",
        "while i<=num and acum<=2:\n",
        "  if( num%1==0 ):\n",
        "    acum+=1\n",
        "    i+=1\n",
        "if(acum==2):\n",
        "  print(\"El numero es primo\")\n",
        "else:\n",
        "  print(\"El numero no es primo\")"
      ],
      "metadata": {
        "colab": {
          "base_uri": "https://localhost:8080/"
        },
        "id": "25e590alVfUA",
        "outputId": "ad1a447f-654f-4f48-b48b-848913de07d3"
      },
      "execution_count": 3,
      "outputs": [
        {
          "output_type": "stream",
          "name": "stdout",
          "text": [
            "Ingrese un número: 97\n",
            "El numero no es primo\n"
          ]
        }
      ]
    },
    {
      "cell_type": "code",
      "source": [
        "#GENERAR LA TABLA DE MULTIPLICAR DE UN NUMERO DADA POR UN USUARIO\n",
        "continuar=\"s\"\n",
        "while continuar==\"s\":\n",
        " ntabla =int(input(\"Tabla: \"))\n",
        " for i in range(1,11):\n",
        "   print(ntabla, \"x\", i, \"=\", ntabla*i)\n",
        " continuar = input(\"continuar: s/n\")"
      ],
      "metadata": {
        "colab": {
          "base_uri": "https://localhost:8080/"
        },
        "collapsed": true,
        "id": "3eIYewbwXLK7",
        "outputId": "fdc8f365-fd15-4c9c-d5d1-44f56378d982"
      },
      "execution_count": 9,
      "outputs": [
        {
          "name": "stdout",
          "output_type": "stream",
          "text": [
            "Tabla: 7\n",
            "7 x 1 = 7\n",
            "7 x 2 = 14\n",
            "7 x 3 = 21\n",
            "7 x 4 = 28\n",
            "7 x 5 = 35\n",
            "7 x 6 = 42\n",
            "7 x 7 = 49\n",
            "7 x 8 = 56\n",
            "7 x 9 = 63\n",
            "7 x 10 = 70\n",
            "continuar: s/ns\n",
            "Tabla: 8\n",
            "8 x 1 = 8\n",
            "8 x 2 = 16\n",
            "8 x 3 = 24\n",
            "8 x 4 = 32\n",
            "8 x 5 = 40\n",
            "8 x 6 = 48\n",
            "8 x 7 = 56\n",
            "8 x 8 = 64\n",
            "8 x 9 = 72\n",
            "8 x 10 = 80\n",
            "continuar: s/nn\n"
          ]
        }
      ]
    }
  ],
  "metadata": {
    "colab": {
      "provenance": [],
      "authorship_tag": "ABX9TyMOu2klt5PiXFH9w/R7dpPj",
      "include_colab_link": true
    },
    "kernelspec": {
      "display_name": "Python 3",
      "name": "python3"
    },
    "language_info": {
      "name": "python"
    }
  },
  "nbformat": 4,
  "nbformat_minor": 0
}